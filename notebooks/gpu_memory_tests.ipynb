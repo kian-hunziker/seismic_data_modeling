{
 "cells": [
  {
   "cell_type": "code",
   "execution_count": 1,
   "id": "initial_id",
   "metadata": {
    "collapsed": true,
    "ExecuteTime": {
     "end_time": "2024-07-19T09:55:29.683677Z",
     "start_time": "2024-07-19T09:55:26.271450Z"
    }
   },
   "outputs": [
    {
     "name": "stderr",
     "output_type": "stream",
     "text": [
      "CUDA extension for structured kernels (Cauchy and Vandermonde multiplication) not found. Install by going to extensions/kernels/ and running `python setup.py install`, for improved speed and memory efficiency. Note that the kernel changed for state-spaces 4.0 and must be recompiled.\n",
      "Falling back on slow Cauchy and Vandermonde kernel. Install at least one of pykeops or the CUDA extension for better speed and memory efficiency.\n"
     ]
    }
   ],
   "source": [
    "import torch\n",
    "from models.sashimi.sashimi_standalone import Sashimi\n",
    "from tqdm import tqdm"
   ]
  },
  {
   "cell_type": "code",
   "outputs": [
    {
     "name": "stdout",
     "output_type": "stream",
     "text": [
      "Using device: cpu\n"
     ]
    }
   ],
   "source": [
    "device = torch.device('cuda' if torch.cuda.is_available() else 'cpu')\n",
    "print(f'Using device: {device}')\n",
    "\n",
    "d_model = 64\n",
    "n_layers = 8\n",
    "expand = 2\n",
    "ff = 2\n",
    "dropout = 0.0\n",
    "pool = [4, 4]\n",
    "\n",
    "batch_size = 32\n",
    "data_dim = 1\n",
    "seq_len = 2048"
   ],
   "metadata": {
    "collapsed": false,
    "ExecuteTime": {
     "end_time": "2024-07-19T09:59:21.255753Z",
     "start_time": "2024-07-19T09:59:21.235639Z"
    }
   },
   "id": "2948f139e7a9015b",
   "execution_count": 3
  },
  {
   "cell_type": "code",
   "outputs": [],
   "source": [
    "model = Sashimi(\n",
    "    d_model=d_model,\n",
    "    n_layers=n_layers,\n",
    "    pool=pool,\n",
    "    expand=expand,\n",
    "    ff=ff,\n",
    "    bidirectional=False,\n",
    "    unet=False,\n",
    "    dropout=dropout,\n",
    ").to(device)"
   ],
   "metadata": {
    "collapsed": false,
    "ExecuteTime": {
     "end_time": "2024-07-19T10:01:42.368088Z",
     "start_time": "2024-07-19T10:01:41.709182Z"
    }
   },
   "id": "3bb7497391237e1d",
   "execution_count": 4
  },
  {
   "cell_type": "code",
   "outputs": [
    {
     "name": "stdout",
     "output_type": "stream",
     "text": [
      "Total number of parameters: 5414656\n",
      "Trainable parameters: 5414656\n"
     ]
    }
   ],
   "source": [
    "pytorch_total_params = sum(p.numel() for p in model.parameters())\n",
    "trainable_params = sum(p.numel() for p in model.parameters() if p.requires_grad)\n",
    "\n",
    "print(f'Total number of parameters: {pytorch_total_params}')\n",
    "print(f'Trainable parameters: {trainable_params}')"
   ],
   "metadata": {
    "collapsed": false,
    "ExecuteTime": {
     "end_time": "2024-07-19T10:03:02.109269Z",
     "start_time": "2024-07-19T10:03:02.103769Z"
    }
   },
   "id": "5ea6a87af8cdc7a7",
   "execution_count": 5
  },
  {
   "cell_type": "code",
   "outputs": [
    {
     "name": "stdout",
     "output_type": "stream",
     "text": [
      "Input shape: torch.Size([32, 2048, 64])\n"
     ]
    }
   ],
   "source": [
    "x = torch.randn(batch_size, seq_len, d_model).to(device)\n",
    "print(f'Input shape: {x.shape}')"
   ],
   "metadata": {
    "collapsed": false,
    "ExecuteTime": {
     "end_time": "2024-07-19T10:04:20.417639Z",
     "start_time": "2024-07-19T10:04:20.359765Z"
    }
   },
   "id": "c3d0bfaf18b3ac0",
   "execution_count": 6
  },
  {
   "cell_type": "code",
   "outputs": [],
   "source": [
    "state = model.default_state()\n",
    "out, state = model(x, state)"
   ],
   "metadata": {
    "collapsed": false,
    "ExecuteTime": {
     "end_time": "2024-07-19T10:06:06.459723Z",
     "start_time": "2024-07-19T10:05:55.351417Z"
    }
   },
   "id": "8c7d8bd9a0bfa804",
   "execution_count": 9
  },
  {
   "cell_type": "code",
   "outputs": [
    {
     "name": "stdout",
     "output_type": "stream",
     "text": [
      "torch.Size([32, 2048, 64])\n"
     ]
    }
   ],
   "source": [
    "print(f'Output shape: {out.shape}')"
   ],
   "metadata": {
    "collapsed": false,
    "ExecuteTime": {
     "end_time": "2024-07-19T10:06:34.263299Z",
     "start_time": "2024-07-19T10:06:34.259784Z"
    }
   },
   "id": "2ed7174b6f2d9131",
   "execution_count": 10
  },
  {
   "cell_type": "code",
   "outputs": [],
   "source": [],
   "metadata": {
    "collapsed": false
   },
   "id": "ef288da72087ced0"
  }
 ],
 "metadata": {
  "kernelspec": {
   "display_name": "Python 3",
   "language": "python",
   "name": "python3"
  },
  "language_info": {
   "codemirror_mode": {
    "name": "ipython",
    "version": 2
   },
   "file_extension": ".py",
   "mimetype": "text/x-python",
   "name": "python",
   "nbconvert_exporter": "python",
   "pygments_lexer": "ipython2",
   "version": "2.7.6"
  }
 },
 "nbformat": 4,
 "nbformat_minor": 5
}
